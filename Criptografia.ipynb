{
  "nbformat": 4,
  "nbformat_minor": 0,
  "metadata": {
    "colab": {
      "provenance": [],
      "collapsed_sections": [
        "0kYx3FNDeXAM",
        "bWGTKvcSoxoY"
      ],
      "authorship_tag": "ABX9TyM5i9MC8XjYE/kbrEayOy9k",
      "include_colab_link": true
    },
    "kernelspec": {
      "name": "python3",
      "display_name": "Python 3"
    },
    "language_info": {
      "name": "python"
    }
  },
  "cells": [
    {
      "cell_type": "markdown",
      "metadata": {
        "id": "view-in-github",
        "colab_type": "text"
      },
      "source": [
        "<a href=\"https://colab.research.google.com/github/JhowSantiago/exercicio1_desafio_modalGR_criptografia/blob/main/Criptografia.ipynb\" target=\"_parent\"><img src=\"https://colab.research.google.com/assets/colab-badge.svg\" alt=\"Open In Colab\"/></a>"
      ]
    },
    {
      "cell_type": "markdown",
      "source": [
        "# **PROGRAMA DE CRIPTOGRAFIA DE SENHAS**"
      ],
      "metadata": {
        "id": "Zt5lQmEqKnCn"
      }
    },
    {
      "cell_type": "markdown",
      "source": [
        "# INSTALAÇÃO DAS BIBLIOTECAS UTILIZADAS"
      ],
      "metadata": {
        "id": "908p6d7IKTcw"
      }
    },
    {
      "cell_type": "code",
      "execution_count": 1,
      "metadata": {
        "id": "ZWSvfmGWH8vE"
      },
      "outputs": [],
      "source": [
        "from cryptography.hazmat.backends import default_backend\n",
        "from cryptography.hazmat.primitives import hashes\n",
        "from cryptography.hazmat.primitives.kdf.pbkdf2 import PBKDF2HMAC\n",
        "from cryptography.hazmat.primitives.hashes import SHA256\n",
        "from cryptography.fernet import Fernet\n",
        "import base64\n",
        "import rsa\n",
        "import secrets"
      ]
    },
    {
      "cell_type": "markdown",
      "source": [
        "# criptografia simples utilizando substituição"
      ],
      "metadata": {
        "id": "0kYx3FNDeXAM"
      }
    },
    {
      "cell_type": "markdown",
      "source": [
        "Referências\n",
        "\n",
        "*   https://www.youtube.com/watch?v=3wcBjdxKAuo&ab_channel=ArteAtuarial\n",
        "\n",
        "\n"
      ],
      "metadata": {
        "id": "ceD_SuOniR7x"
      }
    },
    {
      "cell_type": "code",
      "source": [
        "# Criando a base de dados dos caracteres\n",
        "normal_letras = \"ABCDEFGHIJKLMNOPQRSTUVWXYZabcdefghijklmnopqrstuvwxyz0123456789!\\\"#$%&'()*+,-./:;<=>?@[\\\\]^_`{|}~\"\n",
        "# Chave aleatória que substituirá os caracteres correspondentes no alfabeto e dígitos\n",
        "chave =         \"EICMTHQFXUAOWLKBRVZYPGNSJDailoqhbpvrnzcxyuswmkjtdefg2901783645^&()*{}!@#[]%:;/~`|,.<>?+=-_'\\\"\\\\$\""
      ],
      "metadata": {
        "id": "YSdb8i4flMB3"
      },
      "execution_count": 2,
      "outputs": []
    },
    {
      "cell_type": "code",
      "source": [
        "def criptografarSubstituicao(senha):\n",
        "  #maketran serve para criar uma tabela de tradução dos caracteres para poder criptografar\n",
        "  criptografar = str.maketrans(''.join(normal_letras),''.join(chave))\n",
        "  #criptografando a senha usando o trasnlate\n",
        "  return senha.translate(criptografar)"
      ],
      "metadata": {
        "id": "UwUJuWBYeTs8"
      },
      "execution_count": 3,
      "outputs": []
    },
    {
      "cell_type": "code",
      "source": [
        "def decodificarSubstituicao(enc_senha):\n",
        "  #utilizando isistance denovo para verificar o tipo original da senha\n",
        "  #se a senha original estiver em formato de bytes ela é convertida em string utilizando o decode\n",
        "  if isinstance(enc_senha, bytes):\n",
        "    enc_senha = enc_senha.decode()  # Decodificando bytes para string\n",
        "  #criando a mesma tabela de tradução dos caracteres mas inversa\n",
        "  inverso = str.maketrans(''.join(chave), ''.join(normal_letras))\n",
        "  # Decodificando a senha usando a tabela inversa\n",
        "  dec_senha = enc_senha.translate(inverso)\n",
        "  return dec_senha"
      ],
      "metadata": {
        "id": "9DCysh3TlkeJ"
      },
      "execution_count": 4,
      "outputs": []
    },
    {
      "cell_type": "markdown",
      "source": [
        "# criptografia simples utilizando reversão\n"
      ],
      "metadata": {
        "id": "bWGTKvcSoxoY"
      }
    },
    {
      "cell_type": "markdown",
      "source": [
        "Referências\n",
        "\n",
        "\n",
        "*   http://excript.com/python/ordenamento-lista-python.html#:~:text=A%20fun%C3%A7%C3%A3o%20reverse()%20inverte,e%20vice%2De%2Dversa\n",
        "  \n",
        "\n"
      ],
      "metadata": {
        "id": "xameD3iZiDXa"
      }
    },
    {
      "cell_type": "code",
      "source": [
        "def criptografarReversao(senha):\n",
        "  return ''.join(reversed(senha))"
      ],
      "metadata": {
        "id": "VDVu5fJFyFKF"
      },
      "execution_count": 5,
      "outputs": []
    },
    {
      "cell_type": "code",
      "source": [
        "def decodificarReversao(enc_senha):\n",
        "  #utilizando isistance denovo para verificar o tipo original da senha\n",
        "  #se a senha original estiver em formato de bytes ela é convertida em string utilizando o decode\n",
        "  if isinstance(enc_senha, bytes):\n",
        "    enc_senha = enc_senha.decode()  # Decodificando bytes para string\n",
        "  return ''.join(reversed(enc_senha))"
      ],
      "metadata": {
        "id": "8uPhKmuQ2YUw"
      },
      "execution_count": 6,
      "outputs": []
    },
    {
      "cell_type": "markdown",
      "source": [
        "# criptografia assimétrica RSA"
      ],
      "metadata": {
        "id": "5gu-aWWk33Lt"
      }
    },
    {
      "cell_type": "markdown",
      "source": [
        "Referências\n",
        "\n",
        "*   https://acervolima.com/como-criptografar-e-descriptografar-strings-em-python/\n",
        "*  https://www.youtube.com/watch?v=n0uJsqFGO4k&ab_channel=NeuralNine\n",
        "\n"
      ],
      "metadata": {
        "id": "wHLspAMKho2G"
      }
    },
    {
      "cell_type": "code",
      "source": [
        "#criando as chaves utilizadas para a criptografia e decodificação\n",
        "publicKey,privateKey = rsa.newkeys(2048)"
      ],
      "metadata": {
        "id": "7LEsK_koc0-U"
      },
      "execution_count": 7,
      "outputs": []
    },
    {
      "cell_type": "code",
      "source": [
        "def criptografarRsa(senha):\n",
        "  enc_senha = rsa.encrypt(senha.encode(),publicKey)\n",
        "  return enc_senha"
      ],
      "metadata": {
        "id": "5ZQccKoRedj7"
      },
      "execution_count": 8,
      "outputs": []
    },
    {
      "cell_type": "code",
      "source": [
        "def decodificarRsa(enc_senha):\n",
        "  dec_senha = enc_senha = rsa.decrypt(enc_senha,privateKey).decode()\n",
        "  return dec_senha"
      ],
      "metadata": {
        "id": "57BE8XQSfJx7"
      },
      "execution_count": 9,
      "outputs": []
    },
    {
      "cell_type": "markdown",
      "source": [
        "# Criptografia simétrica com a chave fornecida"
      ],
      "metadata": {
        "id": "aS-zyUn7jd-r"
      }
    },
    {
      "cell_type": "markdown",
      "source": [
        "Referência\n",
        "\n",
        "*   https://stackoverflow.com/questions/67385361/is-this-password-function-with-sha256-and-pbkdf2hmac-salt-secure-to-encrypt-yo\n",
        "\n",
        "\n"
      ],
      "metadata": {
        "id": "6Rf-CmZC0MDL"
      }
    },
    {
      "cell_type": "code",
      "source": [
        "# o salt é uma sequência de bytes aleatória que é usada como entrada adicional ao derivar uma chave\n",
        "#a partir de uma senha usando funções de derivação de chave, como o PBKDF2HMAC\n",
        "salt = secrets.token_hex(16).encode()"
      ],
      "metadata": {
        "id": "9Aw2wvUcodig"
      },
      "execution_count": 10,
      "outputs": []
    },
    {
      "cell_type": "code",
      "source": [
        "def criptografarSimetrica(senha,chave):\n",
        "  #Verificando se a senha passada esta no formato de bytes utilizando isistance\n",
        "  #caso ele não esteja senha_bytes vai receber a senha transformada no formato correto\n",
        "  if not isinstance(senha, bytes):\n",
        "        #transformando a senha no formato de bytes\n",
        "        senha_bytes = senha.encode()\n",
        "  #se ela ja estiver no formato correto apenas ira ser atribuida a variavel senha_bytes\n",
        "  else:\n",
        "        senha_bytes = senha\n",
        "  #derivando a chave_secreta\n",
        "  kdf = PBKDF2HMAC(\n",
        "        algorithm=hashes.SHA256(),\n",
        "        length=32,\n",
        "        salt=salt,\n",
        "        iterations=100000,\n",
        "        backend=default_backend(),\n",
        "    )\n",
        "  #chamando o metodo kdf criado acima para fazer uma derivação da chave_secreta aumentando assim a segurança\n",
        "  encryption_key = (base64.urlsafe_b64encode(kdf.derive(chave)))\n",
        "  #criando o objeto fernet com a chave secreta criptografada para utilizar na senha\n",
        "  encryption_key_fernet = Fernet(encryption_key)\n",
        "  #utilizando o fernet para criptografar a senha\n",
        "  enc_senha = encryption_key_fernet.encrypt(senha_bytes)\n",
        "\n",
        "  return enc_senha"
      ],
      "metadata": {
        "id": "6mlhtFVajc9z"
      },
      "execution_count": 11,
      "outputs": []
    },
    {
      "cell_type": "code",
      "source": [
        "def decodificarSimetrica(enc_senha, chave):\n",
        "  kdf = PBKDF2HMAC(\n",
        "        algorithm=hashes.SHA256(),\n",
        "        length=32,\n",
        "        salt=salt,\n",
        "        iterations=100000,\n",
        "        backend=default_backend(),\n",
        "    )\n",
        "  #chamando o metodo kdf criado acima para fazer uma derivação da chave_secreta aumentando assim a segurança\n",
        "  decryption_key = (base64.urlsafe_b64encode(kdf.derive(chave)))\n",
        "  #criando o objeto fernet com a chave secreta criptografada para utilizar na senha\n",
        "  decryption_key_fernet = Fernet(decryption_key)\n",
        "   #utilizando o fernet para decodificar a senha\n",
        "  dec_senha = decryption_key_fernet.decrypt(enc_senha)\n",
        "\n",
        "  #utilizando isistance denovo para verificar o tipo original da senha\n",
        "  #se a senha original estiver em formato de bytes ela é mantida em bytes\n",
        "  if isinstance(dec_senha, bytes):\n",
        "        return dec_senha\n",
        "  # se nao ela é transformada em string utilizando o decode()\n",
        "  else:\n",
        "        return dec_senha.decode()\n",
        "  return dec_senha"
      ],
      "metadata": {
        "id": "8jC_MILmmZ_M"
      },
      "execution_count": 12,
      "outputs": []
    },
    {
      "cell_type": "markdown",
      "source": [
        "# Chave Secreta e senhas"
      ],
      "metadata": {
        "id": "Chza54pKcyo_"
      }
    },
    {
      "cell_type": "code",
      "source": [
        "chave_secreta = b\"#modalGR#GPTW#top#maiorEmpresaTecnologia#baixadaSantista\""
      ],
      "metadata": {
        "id": "RmwjeB12c08R"
      },
      "execution_count": 13,
      "outputs": []
    },
    {
      "cell_type": "code",
      "source": [
        "#senha1\n",
        "senha1 = \"EUamoCOM3rpizza-MAS_CUSTA_moN3y$$$\"\n",
        "\n",
        "#senha2\n",
        "senha2 = \"ModalGR@123\"\n",
        "\n",
        "#senha3\n",
        "senha3 = \"ModalGR_MAIOR_empresaTecnologica_da_baixada@123\""
      ],
      "metadata": {
        "id": "ioSnlMXEaiUF"
      },
      "execution_count": 14,
      "outputs": []
    },
    {
      "cell_type": "markdown",
      "source": [
        "# Aplicação"
      ],
      "metadata": {
        "id": "FdqcfF9Uig_F"
      }
    },
    {
      "cell_type": "code",
      "source": [
        "#criptografando a senha 1 utilizando o primeiro metodo simples de substituição\n",
        "senha1_crip_subst = criptografarSubstituicao(senha1)\n",
        "#criptografando a senha 2 utilizando o segundo metodo simples de reversão\n",
        "senha2_crip_reversed = criptografarReversao(senha2)\n",
        "#criptografando a senha 3 utilizando o terceiro metodo simples de RSA\n",
        "senha3_crip_rsa = criptografarRsa(senha3)\n",
        "\n",
        "#visualizando a criptografia simples das 3 senhas\n",
        "print(\"senha1:\",senha1_crip_subst)\n",
        "print(\"senha2:\",senha2_crip_reversed)\n",
        "print(\"senha2:\",senha3_crip_rsa)"
      ],
      "metadata": {
        "colab": {
          "base_uri": "https://localhost:8080/"
        },
        "id": "PluTyMX008jt",
        "outputId": "023c043b-fb7f-4921-8c3f-c1699b814fde"
      },
      "execution_count": 23,
      "outputs": [
        {
          "output_type": "stream",
          "name": "stdout",
          "text": [
            "senha1: TPacyCKW1wuvgga%WEZ-CPZYE-cyL1f)))\n",
            "senha2: 321@RGladoM\n",
            "senha2: b'wR\\xd3\\xf6RC\\xab\\xcdTwH\\xa0\\xf9\\xbdlQ\\xe4\\xb2\\xe7\\x83\\xb0\\xec\\xae\\x8eI\\xda\\xf4\\xcb8\\x02\\xfe5\\xe9F\\x06v\\x87\\xef\\xd8\\xdc\\x92=\\xb5W\\x15\\xdbMMS\\xf37V/Dm\\xc3\\xd5\\x86\\xaa\\xc9\\xd4\\xb6\\x85\\x98\\x8b{\\x93\\xcd=\\xed\\xb1\\xed\\x06^D\\xed\\x1a\\x11\\x8f<\\x9a\\xdf\\x02\\x1e\\x88\\x16\\xdf\\x08\\xd6\\xa9[\\xf0\\xf7\\x81\\xbb \\xb2P\\xdb\\xea\\xaa \\xaa\\xa3\\x94\\x97\\xf2Q\\xbeH\\x97\\xee4jK\\x93\\x89\\x8a\\xc42&4s\\x96\\xc0\\x1cl\\xaae\\x0cR\\xf4\\xc4U~Htn\\xe26\\x19\\xd0\\xe7\\x0c\\xc8Wv\\xe1\\xc7\\x8c\\xf7\\x8a\\xaa)\\xbb\\xb9\\xffmL;\\xe2\\xe5\\xbc\\x95\\xda2&\\xfd\\x17\\x82|?\"4H\\x9d.x\\xd7\\xde\\xcc)\\xf2?\\xd0\\xc0\\xca1B[\\xf1\\x1a\\x0f\\xf7m^\\t\\x8e\\xd3\\xa8#\\x88*\\x85@\\x17\\xa5\\x99\\xc2\\xc3\\xda\\xcd\\xb0\\xfd\\xc40\\xfa\\xcd\\x04U\\x0f\\xaf\\x8eH\\xca\\x89\\\\$\\xc7nR\\x83\\xe6\\xc4\\x981\\xb0W\\x13SC\\xa6\\xec\\xe9\\x0b\\x0fJ0\\xfd8\\x84\\x96\\xa3(\\xdb%'\n"
          ]
        }
      ]
    },
    {
      "cell_type": "code",
      "source": [
        "#Agora vamos criptografar denovo as 3 senhas utilizando a criptografia simétrica com a chave_secreta fornecida\n",
        "#passando para a funcao a senha que vai ser criptografada e a chave secreta disponibilizada\n",
        "senha1_crip_simetrica = criptografarSimetrica(senha1_crip_subst,chave_secreta)\n",
        "senha2_crip_simetrica = criptografarSimetrica(senha2_crip_reversed,chave_secreta)\n",
        "senha3_crip_simetrica = criptografarSimetrica(senha3_crip_rsa,chave_secreta)\n",
        "\n",
        "#visualizando a criptografia simétrica das 3 senhas\n",
        "print(\"senha1:\",senha1_crip_simetrica)\n",
        "print(\"senha2:\",senha2_crip_simetrica)\n",
        "print(\"senha2:\",senha3_crip_simetrica)"
      ],
      "metadata": {
        "colab": {
          "base_uri": "https://localhost:8080/"
        },
        "id": "YsK2f9T42RBp",
        "outputId": "670f9165-2a5b-4b96-b1d7-36f494eb32a4"
      },
      "execution_count": 24,
      "outputs": [
        {
          "output_type": "stream",
          "name": "stdout",
          "text": [
            "senha1: b'gAAAAABlRmc8k9kW9vt5o8TRrERz8wJUqXmle0O0vgNz5wiJRkooQZPa_DQ2tMVrB8Rw3AMvLKRKcWkJfqSzet1XFP-Sb7pW7GZHYJiFc4qxmPu0_Bvw0-2PIaMYBo94eIkwT7Zv0-_r'\n",
            "senha2: b'gAAAAABlRmc8itNICV54349wNr9ujC6UCei49prs_DGFN_Rp1eRbY92-VPHtuZ5U5K8TUkKU7v4eErF0SWdELag68INENE5N3Q=='\n",
            "senha2: b'gAAAAABlRmc8QyuSlwWvwYU0xruxaZT5AchrBzE9kCCxjVon392g1z5kVZXmYkp_mr_wX4mW_YYmS24CYoJRwicXGROhhdwHvwfur7FiwKkWqKdfnvCwXrBuEW-MItOtGJREb3wz2xUN5_5kHfvVYGq0-ZHQNjblvS0QfLSpZTJaHNvMp6bYAZO2Lo625TEH1hP1tgwABAiSJBPcmJx1gJ90Ksyan4w0qwDdqbq-T3IPzZAXnQeoMlOZbGhBLXMP4mPjJxjxvxxqMd2VuyBm5kjZRTJU6nWHQXs_MMiOmiG5VQXWjGFzOcLE0ByU1qFCMMWYCgv8nzupUiUbXzk3CTmXK_YYLfBcKWap4mNmHypk4rWriyZ_cv7ONKJzxA-v208139kBG5ILyva9f5xbBqwVP4hRpN3YCFtrKTNEcxQmD_NQQeWcp6c='\n"
          ]
        }
      ]
    },
    {
      "cell_type": "code",
      "source": [
        "#caso o usuário queria decodificar as senhas basta fazer os seguintes passos\n",
        "#decodificando as senhas da criptografia simetrica\n",
        "#passando para a função a senha criptograda e a chave secreta\n",
        "senha1_deco_simetrica = decodificarSimetrica(senha1_crip_simetrica,chave_secreta)\n",
        "senha2_deco_simetrica = decodificarSimetrica(senha2_crip_simetrica,chave_secreta)\n",
        "senha3_deco_simetrica = decodificarSimetrica(senha3_crip_simetrica,chave_secreta)\n",
        "\n",
        "#visualizando se as 3 senhas retornou ao formato passado antes de ir para a funcao de criptografia simetrica\n",
        "print(\"senha1:\",senha1_deco_simetrica)\n",
        "print(\"senha2:\",senha2_deco_simetrica)\n",
        "print(\"senha2:\",senha3_deco_simetrica)"
      ],
      "metadata": {
        "colab": {
          "base_uri": "https://localhost:8080/"
        },
        "id": "eu1bl_gD3Eaa",
        "outputId": "a3fd25f7-ff18-4af7-90a4-c31e8787accd"
      },
      "execution_count": 25,
      "outputs": [
        {
          "output_type": "stream",
          "name": "stdout",
          "text": [
            "senha1: b'TPacyCKW1wuvgga%WEZ-CPZYE-cyL1f)))'\n",
            "senha2: b'321@RGladoM'\n",
            "senha2: b'wR\\xd3\\xf6RC\\xab\\xcdTwH\\xa0\\xf9\\xbdlQ\\xe4\\xb2\\xe7\\x83\\xb0\\xec\\xae\\x8eI\\xda\\xf4\\xcb8\\x02\\xfe5\\xe9F\\x06v\\x87\\xef\\xd8\\xdc\\x92=\\xb5W\\x15\\xdbMMS\\xf37V/Dm\\xc3\\xd5\\x86\\xaa\\xc9\\xd4\\xb6\\x85\\x98\\x8b{\\x93\\xcd=\\xed\\xb1\\xed\\x06^D\\xed\\x1a\\x11\\x8f<\\x9a\\xdf\\x02\\x1e\\x88\\x16\\xdf\\x08\\xd6\\xa9[\\xf0\\xf7\\x81\\xbb \\xb2P\\xdb\\xea\\xaa \\xaa\\xa3\\x94\\x97\\xf2Q\\xbeH\\x97\\xee4jK\\x93\\x89\\x8a\\xc42&4s\\x96\\xc0\\x1cl\\xaae\\x0cR\\xf4\\xc4U~Htn\\xe26\\x19\\xd0\\xe7\\x0c\\xc8Wv\\xe1\\xc7\\x8c\\xf7\\x8a\\xaa)\\xbb\\xb9\\xffmL;\\xe2\\xe5\\xbc\\x95\\xda2&\\xfd\\x17\\x82|?\"4H\\x9d.x\\xd7\\xde\\xcc)\\xf2?\\xd0\\xc0\\xca1B[\\xf1\\x1a\\x0f\\xf7m^\\t\\x8e\\xd3\\xa8#\\x88*\\x85@\\x17\\xa5\\x99\\xc2\\xc3\\xda\\xcd\\xb0\\xfd\\xc40\\xfa\\xcd\\x04U\\x0f\\xaf\\x8eH\\xca\\x89\\\\$\\xc7nR\\x83\\xe6\\xc4\\x981\\xb0W\\x13SC\\xa6\\xec\\xe9\\x0b\\x0fJ0\\xfd8\\x84\\x96\\xa3(\\xdb%'\n"
          ]
        }
      ]
    },
    {
      "cell_type": "code",
      "source": [
        "#agora iremos fazer a ultima decodificação retornando as senhas ao formato original\n",
        "#utilizando as o metodos de decodificação de cada uma\n",
        "#decodificando a senha 1 utilizando o primeiro metodo simples de substituição\n",
        "senha1_original = decodificarSubstituicao(senha1_deco_simetrica)\n",
        "#decodificando a senha 2 utilizando o primeiro metodo simples de reversao\n",
        "senha2_orginal = decodificarReversao(senha2_deco_simetrica)\n",
        "#decodificando a senha 3 utilizando o terceiro metodo simples de RSA\n",
        "senha3_original = decodificarRsa(senha3_deco_simetrica)\n",
        "\n",
        "#visualizando se as 3 senhas retornou ao original\n",
        "print(\"senha1:\",senha1_original)\n",
        "print(\"senha2:\",senha2_orginal)\n",
        "print(\"senha2:\",senha3_original)"
      ],
      "metadata": {
        "colab": {
          "base_uri": "https://localhost:8080/"
        },
        "id": "L1jdp7oD8mCj",
        "outputId": "26c4634e-6dae-4f1b-9bf1-7eea3fc7d826"
      },
      "execution_count": 27,
      "outputs": [
        {
          "output_type": "stream",
          "name": "stdout",
          "text": [
            "senha1: EUamoCOM3rpizza-MAS_CUSTA_moN3y$$$\n",
            "senha2: ModalGR@123\n",
            "senha2: ModalGR_MAIOR_empresaTecnologica_da_baixada@123\n"
          ]
        }
      ]
    }
  ]
}